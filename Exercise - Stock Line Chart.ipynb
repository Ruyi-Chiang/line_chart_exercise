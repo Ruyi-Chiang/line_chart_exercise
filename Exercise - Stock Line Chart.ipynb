{
 "cells": [
  {
   "cell_type": "code",
   "execution_count": 1,
   "metadata": {
    "collapsed": true
   },
   "outputs": [],
   "source": [
    "%matplotlib inline\n",
    "\n",
    "import pandas as pd\n",
    "import numpy as np\n",
    "import matplotlib.pyplot as plt\n",
    "\n",
    "# Read stock price\n",
    "import pandas_datareader as pdr"
   ]
  },
  {
   "cell_type": "code",
   "execution_count": 2,
   "metadata": {
    "collapsed": true
   },
   "outputs": [],
   "source": [
    "# Get Teslat Stock Data from Yahoo\n",
    "tesla = pdr.get_data_yahoo('TSLA')"
   ]
  },
  {
   "cell_type": "code",
   "execution_count": 4,
   "metadata": {},
   "outputs": [
    {
     "data": {
      "text/html": [
       "<div>\n",
       "<style>\n",
       "    .dataframe thead tr:only-child th {\n",
       "        text-align: right;\n",
       "    }\n",
       "\n",
       "    .dataframe thead th {\n",
       "        text-align: left;\n",
       "    }\n",
       "\n",
       "    .dataframe tbody tr th {\n",
       "        vertical-align: top;\n",
       "    }\n",
       "</style>\n",
       "<table border=\"1\" class=\"dataframe\">\n",
       "  <thead>\n",
       "    <tr style=\"text-align: right;\">\n",
       "      <th></th>\n",
       "      <th>Open</th>\n",
       "      <th>High</th>\n",
       "      <th>Low</th>\n",
       "      <th>Close</th>\n",
       "      <th>Adj Close</th>\n",
       "      <th>Volume</th>\n",
       "    </tr>\n",
       "  </thead>\n",
       "  <tbody>\n",
       "    <tr>\n",
       "      <th>count</th>\n",
       "      <td>1882.000000</td>\n",
       "      <td>1882.000000</td>\n",
       "      <td>1882.000000</td>\n",
       "      <td>1882.000000</td>\n",
       "      <td>1882.000000</td>\n",
       "      <td>1.882000e+03</td>\n",
       "    </tr>\n",
       "    <tr>\n",
       "      <th>mean</th>\n",
       "      <td>152.505558</td>\n",
       "      <td>155.046759</td>\n",
       "      <td>149.797535</td>\n",
       "      <td>152.489303</td>\n",
       "      <td>152.489303</td>\n",
       "      <td>4.510667e+06</td>\n",
       "    </tr>\n",
       "    <tr>\n",
       "      <th>std</th>\n",
       "      <td>108.003096</td>\n",
       "      <td>109.438092</td>\n",
       "      <td>106.404423</td>\n",
       "      <td>107.981936</td>\n",
       "      <td>107.981936</td>\n",
       "      <td>4.243807e+06</td>\n",
       "    </tr>\n",
       "    <tr>\n",
       "      <th>min</th>\n",
       "      <td>16.139999</td>\n",
       "      <td>16.629999</td>\n",
       "      <td>14.980000</td>\n",
       "      <td>15.800000</td>\n",
       "      <td>15.800000</td>\n",
       "      <td>1.185000e+05</td>\n",
       "    </tr>\n",
       "    <tr>\n",
       "      <th>25%</th>\n",
       "      <td>31.175000</td>\n",
       "      <td>31.884999</td>\n",
       "      <td>30.575000</td>\n",
       "      <td>31.275000</td>\n",
       "      <td>31.275000</td>\n",
       "      <td>1.309225e+06</td>\n",
       "    </tr>\n",
       "    <tr>\n",
       "      <th>50%</th>\n",
       "      <td>187.760002</td>\n",
       "      <td>191.540001</td>\n",
       "      <td>183.000000</td>\n",
       "      <td>188.045006</td>\n",
       "      <td>188.045006</td>\n",
       "      <td>3.583000e+06</td>\n",
       "    </tr>\n",
       "    <tr>\n",
       "      <th>75%</th>\n",
       "      <td>234.212502</td>\n",
       "      <td>237.537502</td>\n",
       "      <td>229.264995</td>\n",
       "      <td>232.487499</td>\n",
       "      <td>232.487499</td>\n",
       "      <td>6.036950e+06</td>\n",
       "    </tr>\n",
       "    <tr>\n",
       "      <th>max</th>\n",
       "      <td>386.690002</td>\n",
       "      <td>389.609985</td>\n",
       "      <td>379.350006</td>\n",
       "      <td>385.000000</td>\n",
       "      <td>385.000000</td>\n",
       "      <td>3.716390e+07</td>\n",
       "    </tr>\n",
       "  </tbody>\n",
       "</table>\n",
       "</div>"
      ],
      "text/plain": [
       "              Open         High          Low        Close    Adj Close  \\\n",
       "count  1882.000000  1882.000000  1882.000000  1882.000000  1882.000000   \n",
       "mean    152.505558   155.046759   149.797535   152.489303   152.489303   \n",
       "std     108.003096   109.438092   106.404423   107.981936   107.981936   \n",
       "min      16.139999    16.629999    14.980000    15.800000    15.800000   \n",
       "25%      31.175000    31.884999    30.575000    31.275000    31.275000   \n",
       "50%     187.760002   191.540001   183.000000   188.045006   188.045006   \n",
       "75%     234.212502   237.537502   229.264995   232.487499   232.487499   \n",
       "max     386.690002   389.609985   379.350006   385.000000   385.000000   \n",
       "\n",
       "             Volume  \n",
       "count  1.882000e+03  \n",
       "mean   4.510667e+06  \n",
       "std    4.243807e+06  \n",
       "min    1.185000e+05  \n",
       "25%    1.309225e+06  \n",
       "50%    3.583000e+06  \n",
       "75%    6.036950e+06  \n",
       "max    3.716390e+07  "
      ]
     },
     "execution_count": 4,
     "metadata": {},
     "output_type": "execute_result"
    }
   ],
   "source": [
    "# Check the data fetched from pandas_datareader\n",
    "tesla.describe()"
   ]
  },
  {
   "cell_type": "code",
   "execution_count": 5,
   "metadata": {
    "collapsed": true
   },
   "outputs": [],
   "source": [
    "# Only check the data of last 2 years\n",
    "past_2_years = -(365*2)\n",
    "tesla_latest = tesla[past_2_years : ]"
   ]
  },
  {
   "cell_type": "code",
   "execution_count": 7,
   "metadata": {},
   "outputs": [
    {
     "data": {
      "text/html": [
       "<div>\n",
       "<style>\n",
       "    .dataframe thead tr:only-child th {\n",
       "        text-align: right;\n",
       "    }\n",
       "\n",
       "    .dataframe thead th {\n",
       "        text-align: left;\n",
       "    }\n",
       "\n",
       "    .dataframe tbody tr th {\n",
       "        vertical-align: top;\n",
       "    }\n",
       "</style>\n",
       "<table border=\"1\" class=\"dataframe\">\n",
       "  <thead>\n",
       "    <tr style=\"text-align: right;\">\n",
       "      <th></th>\n",
       "      <th>Open</th>\n",
       "      <th>High</th>\n",
       "      <th>Low</th>\n",
       "      <th>Close</th>\n",
       "      <th>Adj Close</th>\n",
       "      <th>Volume</th>\n",
       "    </tr>\n",
       "    <tr>\n",
       "      <th>Date</th>\n",
       "      <th></th>\n",
       "      <th></th>\n",
       "      <th></th>\n",
       "      <th></th>\n",
       "      <th></th>\n",
       "      <th></th>\n",
       "    </tr>\n",
       "  </thead>\n",
       "  <tbody>\n",
       "    <tr>\n",
       "      <th>2015-01-27</th>\n",
       "      <td>204.419998</td>\n",
       "      <td>208.029999</td>\n",
       "      <td>203.300003</td>\n",
       "      <td>205.979996</td>\n",
       "      <td>205.979996</td>\n",
       "      <td>2781000</td>\n",
       "    </tr>\n",
       "    <tr>\n",
       "      <th>2015-01-28</th>\n",
       "      <td>206.110001</td>\n",
       "      <td>206.369995</td>\n",
       "      <td>198.419998</td>\n",
       "      <td>199.369995</td>\n",
       "      <td>199.369995</td>\n",
       "      <td>3149600</td>\n",
       "    </tr>\n",
       "    <tr>\n",
       "      <th>2015-01-29</th>\n",
       "      <td>201.070007</td>\n",
       "      <td>205.979996</td>\n",
       "      <td>196.500000</td>\n",
       "      <td>205.199997</td>\n",
       "      <td>205.199997</td>\n",
       "      <td>3548100</td>\n",
       "    </tr>\n",
       "    <tr>\n",
       "      <th>2015-01-30</th>\n",
       "      <td>203.960007</td>\n",
       "      <td>207.470001</td>\n",
       "      <td>203.000000</td>\n",
       "      <td>203.600006</td>\n",
       "      <td>203.600006</td>\n",
       "      <td>3007000</td>\n",
       "    </tr>\n",
       "    <tr>\n",
       "      <th>2015-02-02</th>\n",
       "      <td>203.970001</td>\n",
       "      <td>211.949997</td>\n",
       "      <td>203.300003</td>\n",
       "      <td>210.940002</td>\n",
       "      <td>210.940002</td>\n",
       "      <td>4149200</td>\n",
       "    </tr>\n",
       "  </tbody>\n",
       "</table>\n",
       "</div>"
      ],
      "text/plain": [
       "                  Open        High         Low       Close   Adj Close  \\\n",
       "Date                                                                     \n",
       "2015-01-27  204.419998  208.029999  203.300003  205.979996  205.979996   \n",
       "2015-01-28  206.110001  206.369995  198.419998  199.369995  199.369995   \n",
       "2015-01-29  201.070007  205.979996  196.500000  205.199997  205.199997   \n",
       "2015-01-30  203.960007  207.470001  203.000000  203.600006  203.600006   \n",
       "2015-02-02  203.970001  211.949997  203.300003  210.940002  210.940002   \n",
       "\n",
       "             Volume  \n",
       "Date                 \n",
       "2015-01-27  2781000  \n",
       "2015-01-28  3149600  \n",
       "2015-01-29  3548100  \n",
       "2015-01-30  3007000  \n",
       "2015-02-02  4149200  "
      ]
     },
     "execution_count": 7,
     "metadata": {},
     "output_type": "execute_result"
    }
   ],
   "source": [
    "tesla_latest.head()"
   ]
  },
  {
   "cell_type": "code",
   "execution_count": 59,
   "metadata": {},
   "outputs": [
    {
     "data": {
      "image/png": "[encoded data removed]",
      "text/plain": [
       "<matplotlib.figure.Figure at 0x10ddfa630>"
      ]
     },
     "metadata": {},
     "output_type": "display_data"
    }
   ],
   "source": [
    "# Basic line chart for Close price\n",
    "tesla_latest.Close.plot();\n"
   ]
  },
  {
   "cell_type": "code",
   "execution_count": 78,
   "metadata": {},
   "outputs": [
    {
     "name": "stderr",
     "output_type": "stream",
     "text": [
      "/Users/ruyi/anaconda3/lib/python3.6/site-packages/ipykernel_launcher.py:4: SettingWithCopyWarning: \n",
      "A value is trying to be set on a copy of a slice from a DataFrame.\n",
      "Try using .loc[row_indexer,col_indexer] = value instead\n",
      "\n",
      "See the caveats in the documentation: http://pandas.pydata.org/pandas-docs/stable/indexing.html#indexing-view-versus-copy\n",
      "  after removing the cwd from sys.path.\n"
     ]
    }
   ],
   "source": [
    "# Check if the stock price is above the purchase price \n",
    "ave_buy_price = 315 # assumed purchased at 300usd\n",
    "\n",
    "tesla_latest[\"P/L\"] = tesla_latest.Close > ave_buy_price\n"
   ]
  },
  {
   "cell_type": "code",
   "execution_count": 79,
   "metadata": {},
   "outputs": [
    {
     "data": {
      "image/png": "[encoded data removed]",
      "text/plain": [
       "<matplotlib.figure.Figure at 0x10ecc3cc0>"
      ]
     },
     "metadata": {},
     "output_type": "display_data"
    }
   ],
   "source": [
    "# Use \"Red line\" to mark the days when the close price is above the purchase price\n",
    "tesla_latest.Close.plot(title = 'Tesla Stock Price last 2 years');\n",
    "tesla_latest[tesla_latest[\"P/L\"] == True].Close.plot(c='r');"
   ]
  },
  {
   "cell_type": "code",
   "execution_count": 80,
   "metadata": {},
   "outputs": [],
   "source": [
    "# Detail check - zoom in to last 30 days data\n",
    "last_month = tesla[-30 : ]"
   ]
  },
  {
   "cell_type": "code",
   "execution_count": 81,
   "metadata": {},
   "outputs": [
    {
     "data": {
      "text/plain": [
       "[<matplotlib.lines.Line2D at 0x10de52a90>]"
      ]
     },
     "execution_count": 81,
     "metadata": {},
     "output_type": "execute_result"
    },
    {
     "data": {
      "image/png": "[encoded data removed]",
      "text/plain": [
       "<matplotlib.figure.Figure at 0x10eaf77b8>"
      ]
     },
     "metadata": {},
     "output_type": "display_data"
    }
   ],
   "source": [
    "last_month.Close.plot();\n",
    "\n",
    "plt.plot(last_month.index ,last_month.Close)\n",
    "plt.plot(last_month[last_month.Close > ave_buy_price].index, \n",
    "         last_month[last_month.Close > ave_buy_price].Close,\n",
    "        'r', marker = 'o')"
   ]
  },
  {
   "cell_type": "code",
   "execution_count": 82,
   "metadata": {},
   "outputs": [
    {
     "data": {
      "text/plain": [
       "DatetimeIndex(['2017-11-13', '2017-11-17', '2017-11-21', '2017-11-24',\n",
       "               '2017-11-27', '2017-11-28', '2017-12-08', '2017-12-11',\n",
       "               '2017-12-12', '2017-12-13', '2017-12-14', '2017-12-18'],\n",
       "              dtype='datetime64[ns]', name='Date', freq=None)"
      ]
     },
     "execution_count": 82,
     "metadata": {},
     "output_type": "execute_result"
    }
   ],
   "source": [
    "last_month[last_month.Close > ave_buy_price].index"
   ]
  },
  {
   "cell_type": "code",
   "execution_count": 83,
   "metadata": {},
   "outputs": [
    {
     "data": {
      "text/plain": [
       "Date\n",
       "2017-11-13    315.399994\n",
       "2017-11-17    315.049988\n",
       "2017-11-21    317.809998\n",
       "2017-11-24    315.549988\n",
       "2017-11-27    316.809998\n",
       "2017-11-28    317.549988\n",
       "2017-12-08    315.130005\n",
       "2017-12-11    328.910004\n",
       "2017-12-12    341.029999\n",
       "2017-12-13    339.029999\n",
       "2017-12-14    337.890015\n",
       "2017-12-18    344.787811\n",
       "Name: Close, dtype: float64"
      ]
     },
     "execution_count": 83,
     "metadata": {},
     "output_type": "execute_result"
    }
   ],
   "source": [
    "last_month[last_month.Close > ave_buy_price].Close"
   ]
  },
  {
   "cell_type": "code",
   "execution_count": 84,
   "metadata": {},
   "outputs": [
    {
     "data": {
      "text/plain": [
       "[<matplotlib.lines.Line2D at 0x10e4f0eb8>]"
      ]
     },
     "execution_count": 84,
     "metadata": {},
     "output_type": "execute_result"
    },
    {
     "data": {
      "image/png": "[encoded data removed]",
      "text/plain": [
       "<matplotlib.figure.Figure at 0x10e4f0940>"
      ]
     },
     "metadata": {},
     "output_type": "display_data"
    }
   ],
   "source": [
    "x= np.linspace(-5, 5, 500)\n",
    "y = np.sinc(x)\n",
    "plt.plot(x, y, lw=2);\n",
    "\n",
    "# Mark y > 0 with different color\n",
    "plt.plot(x[y>0] , y[y>0], 'o', lw =1)"
   ]
  },
  {
   "cell_type": "code",
   "execution_count": null,
   "metadata": {
    "collapsed": true
   },
   "outputs": [],
   "source": []
  }
 ],
 "metadata": {
  "kernelspec": {
   "display_name": "Python 3",
   "language": "python",
   "name": "python3"
  },
  "language_info": {
   "codemirror_mode": {
    "name": "ipython",
    "version": 3
   },
   "file_extension": ".py",
   "mimetype": "text/x-python",
   "name": "python",
   "nbconvert_exporter": "python",
   "pygments_lexer": "ipython3",
   "version": "3.6.3"
  }
 },
 "nbformat": 4,
 "nbformat_minor": 2
}
